{
 "cells": [
  {
   "cell_type": "code",
   "execution_count": 8,
   "metadata": {},
   "outputs": [],
   "source": [
    "import pandas as pd\n",
    "import matplotlib.pyplot as plt\n",
    "import numpy as np\n",
    "from sklearn import datasets, linear_model\n",
    "import multiprocessing as mp\n",
    "import time"
   ]
  },
  {
   "cell_type": "code",
   "execution_count": 2,
   "metadata": {},
   "outputs": [],
   "source": [
    "%matplotlib inline"
   ]
  },
  {
   "cell_type": "code",
   "execution_count": 55,
   "metadata": {},
   "outputs": [],
   "source": [
    "def prepareDatasetForRandom(data, trainingData):\n",
    "    \n",
    "    arrOfTrainingAndtest = []\n",
    "    \n",
    "    x_train = np.array(data.sample(n=10)['Average Market Value'])\n",
    "    y_train = np.array(data.sample(n=10)['points'])\n",
    "\n",
    "    x_train = x_train.reshape(1,-1)\n",
    "    y_train = y_train.reshape(1,-1)\n",
    "\n",
    "    x_test = np.array(data.sample(n=10)['Average Market Value'])\n",
    "    y_test = np.array(data.sample(n=10)['points'])\n",
    "\n",
    "    x_test = x_test.reshape(1,-1)\n",
    "    y_test = y_test.reshape(1,-1)\n",
    "    \n",
    "    arrOfTrainingAndtest.append(x_train)\n",
    "    arrOfTrainingAndtest.append(y_train)\n",
    "    arrOfTrainingAndtest.append(x_test)\n",
    "    arrOfTrainingAndtest.append(y_test)\n",
    "    \n",
    "    trainingData.put(arrOfTrainingAndtest)"
   ]
  },
  {
   "cell_type": "code",
   "execution_count": 87,
   "metadata": {},
   "outputs": [],
   "source": [
    "def trainLinearRegModel(x_train,y_train):\n",
    "    reg = linear_model.LinearRegression()\n",
    "    reg.fit(x_train,y_train)\n",
    "    \n",
    "    return reg\n",
    "\n",
    "def trainModel(x, y):\n",
    "    n = len(x)\n",
    "    sum_x = float(np.sum(x))\n",
    "    sum_y = float(np.sum(y))\n",
    "    sum_xx = float(np.sum(x*x))\n",
    "    sum_xy = float(np.sum(x*y))\n",
    "    m = (sum_xy - sum_x*sum_y / n) / (sum_xx - (np.power(sum_x, 2) / n))\n",
    "    b = (sum_y / n) - m * (sum_x / n)\n",
    "    \n",
    "    return m, b"
   ]
  },
  {
   "cell_type": "code",
   "execution_count": 93,
   "metadata": {},
   "outputs": [],
   "source": [
    "#determine best regression line\n",
    "def plotTheRegLine(slope,intercept,x, y):\n",
    "    \n",
    "    #slope, intercept = reg.coef_ , reg.intercept_\n",
    "    predValue = [intercept + slope* i for i in x ]\n",
    "    plt.scatter(x, y)\n",
    "    plt.plot(x, predValue, '--')\n",
    "    gca = plt.gca()\n",
    "    gca.set_autoscale_on(False)\n",
    "    gca.plot(gca.get_xlim(),gca.get_ylim())\n",
    "    plt.draw()\n",
    "    plt.show()"
   ]
  },
  {
   "cell_type": "code",
   "execution_count": 63,
   "metadata": {},
   "outputs": [
    {
     "name": "stdout",
     "output_type": "stream",
     "text": [
      "Time required to read the data file: 0.00011801719665527344\n",
      "[<Process(Process-107, initial)>]\n",
      "<multiprocessing.queues.Queue object at 0x1a1bd4a630>\n"
     ]
    }
   ],
   "source": [
    "startTime = time.time()\n",
    "xlFile = pd.ExcelFile('dataset.xlsx')\n",
    "data = xlFile.parse(\"Sheet1\")\n",
    "df = pd.DataFrame(data,columns=['Club','Age','Foreigners','Average Market Value','points',\"shotName\"])\n",
    "\n",
    "trainingData = mp.Queue()\n",
    "startTime = time.time()\n",
    "processes = [mp.Process(target=prepareDatasetForRandom, args=(data, trainingData))]\n",
    "\n",
    "print(\"Time required to read the data file:\", time.time() - startTime)\n",
    "print(processes)\n",
    "print(trainingData)"
   ]
  },
  {
   "cell_type": "code",
   "execution_count": 64,
   "metadata": {},
   "outputs": [],
   "source": [
    "# Run processes\n",
    "for p in processes:\n",
    "    p.start()\n",
    "\n",
    "# Exit the completed processes\n",
    "for p in processes:\n",
    "    p.join()\n",
    "\n",
    "# Get process results from the output queue\n",
    "readyDataSet = [trainingData.get() for p in processes]\n",
    "x_train = readyDataSet[0][0]\n",
    "y_train = readyDataSet[0][1]\n",
    "x_test = readyDataSet[0][2]\n",
    "y_test = readyDataSet[0][3]"
   ]
  },
  {
   "cell_type": "code",
   "execution_count": 95,
   "metadata": {},
   "outputs": [
    {
     "name": "stdout",
     "output_type": "stream",
     "text": [
      "Time required to train the model: 0.08930611610412598\n"
     ]
    },
    {
     "data": {
      "image/png": "[encoded data removed]",
      "text/plain": [
       "<Figure size 432x288 with 1 Axes>"
      ]
     },
     "metadata": {
      "needs_background": "light"
     },
     "output_type": "display_data"
    }
   ],
   "source": [
    "startTime = time.time()\n",
    "pool = mp.Pool(processes=3)\n",
    "m, b = pool.apply(trainModel, (x_train, y_train))\n",
    "pool.close()\n",
    "print(\"Time required to train the model:\", time.time() - startTime)\n",
    "\n",
    "plotTheRegLine(m,b,x_test,y_test)\n"
   ]
  }
 ],
 "metadata": {
  "kernelspec": {
   "display_name": "Python 3",
   "language": "python",
   "name": "python3"
  },
  "language_info": {
   "codemirror_mode": {
    "name": "ipython",
    "version": 3
   },
   "file_extension": ".py",
   "mimetype": "text/x-python",
   "name": "python",
   "nbconvert_exporter": "python",
   "pygments_lexer": "ipython3",
   "version": "3.7.1"
  }
 },
 "nbformat": 4,
 "nbformat_minor": 2
}
