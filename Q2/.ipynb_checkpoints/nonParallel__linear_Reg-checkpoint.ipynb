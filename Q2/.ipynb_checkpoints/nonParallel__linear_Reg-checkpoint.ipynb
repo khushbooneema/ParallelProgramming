{
 "cells": [
  {
   "cell_type": "code",
   "execution_count": 1,
   "metadata": {},
   "outputs": [],
   "source": [
    "import pandas as pd\n",
    "import matplotlib.pyplot as plt\n",
    "import numpy as np\n",
    "from sklearn import datasets, linear_model\n",
    "import time"
   ]
  },
  {
   "cell_type": "code",
   "execution_count": 2,
   "metadata": {},
   "outputs": [],
   "source": [
    "%matplotlib inline"
   ]
  },
  {
   "cell_type": "code",
   "execution_count": 3,
   "metadata": {},
   "outputs": [],
   "source": [
    "def prepareDatasetFortop(strInput, strOutput):\n",
    "    \n",
    "    x_train_data = df[:100]\n",
    "    test_data = df[-100:]\n",
    "\n",
    "    x_train = x_train_data[[strInput]]\n",
    "    y_train = x_train_data[strOutput]\n",
    "\n",
    "    x_test = test_data[[strInput]]\n",
    "    y_test = test_data[strOutput]\n",
    "    \n",
    "    return x_train,y_train,x_test,y_test\n"
   ]
  },
  {
   "cell_type": "code",
   "execution_count": 4,
   "metadata": {},
   "outputs": [],
   "source": [
    "def trainLinearRegModel(x_train,y_train):\n",
    "    reg = linear_model.LinearRegression()\n",
    "    reg.fit(x_train,y_train)\n",
    "    \n",
    "    return reg\n",
    "\n",
    "def predictTheTestData(reg,x_test):\n",
    "    return reg.predict(x_test)"
   ]
  },
  {
   "cell_type": "code",
   "execution_count": 5,
   "metadata": {},
   "outputs": [],
   "source": [
    "#determine best regression line\n",
    "def plotTheRegLine(reg,x_train, y_pred):\n",
    "    \n",
    "    slope, intercept = reg.coef_ , reg.intercept_\n",
    "    predValue = [intercept + slope* i for i in x ]\n",
    "    plt.scatter(x, y)\n",
    "    plt.plot(x, predValue, '--')\n",
    "    gca = plt.gca()\n",
    "    gca.set_autoscale_on(False)\n",
    "    gca.plot(gca.get_xlim(),gca.get_ylim())\n",
    "    plt.draw()\n",
    "    plt.show()"
   ]
  },
  {
   "cell_type": "code",
   "execution_count": 13,
   "metadata": {},
   "outputs": [
    {
     "name": "stdout",
     "output_type": "stream",
     "text": [
      "Time required to read the data file: 0.04852414131164551\n",
      "Time required to train the model: 1.0566411018371582\n"
     ]
    },
    {
     "data": {
      "image/png": "[encoded data removed]",
      "text/plain": [
       "<Figure size 432x288 with 1 Axes>"
      ]
     },
     "metadata": {
      "needs_background": "light"
     },
     "output_type": "display_data"
    }
   ],
   "source": [
    "startTime = time.time()\n",
    "xlFile = pd.ExcelFile('dataset.xlsx')\n",
    "data = xlFile.parse(\"Sheet1\")\n",
    "df = pd.DataFrame(data,columns=['Club','Age','Foreigners','Average Market Value','points',\"shotName\"])\n",
    "print(\"Time required to read the data file:\", time.time() - startTime)\n",
    "\n",
    "\n",
    "startTime = time.time()\n",
    "x_train,y_train,x_test,y_test = prepareDatasetFortop('Average Market Value','points')\n",
    "reg = trainLinearRegModel(x_train,y_train)\n",
    "\n",
    "y_pred = predictTheTestData(reg,x_test)\n",
    "x = x_train.values.T.tolist()\n",
    "y = y_train.values.T.tolist()\n",
    "y_test = y_test.values.T.tolist()\n",
    "\n",
    "print(\"Time required to train the model:\", time.time() - startTime)\n",
    "plotTheRegLine(reg, x,y)"
   ]
  },
  {
   "cell_type": "code",
   "execution_count": null,
   "metadata": {},
   "outputs": [],
   "source": []
  }
 ],
 "metadata": {
  "kernelspec": {
   "display_name": "Python 3",
   "language": "python",
   "name": "python3"
  },
  "language_info": {
   "codemirror_mode": {
    "name": "ipython",
    "version": 3
   },
   "file_extension": ".py",
   "mimetype": "text/x-python",
   "name": "python",
   "nbconvert_exporter": "python",
   "pygments_lexer": "ipython3",
   "version": "3.7.1"
  }
 },
 "nbformat": 4,
 "nbformat_minor": 2
}
