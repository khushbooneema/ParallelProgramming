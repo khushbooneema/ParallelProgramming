{
 "cells": [
  {
   "cell_type": "code",
   "execution_count": 9,
   "metadata": {},
   "outputs": [],
   "source": [
    "import pandas as pd\n",
    "import numpy as np\n",
    "import dask.dataframe as dd\n",
    "import math\n",
    "import time\n",
    "import multiprocessing"
   ]
  },
  {
   "cell_type": "code",
   "execution_count": 2,
   "metadata": {},
   "outputs": [],
   "source": [
    "%matplotlib inline\n",
    "\n",
    "#read csv file\n",
    "pandasData = pd.read_csv('BlackFriday.csv')\n",
    "purchaseData = pandasData['Purchase'] \n",
    "\n",
    "#convert pandas datafram into dask datafram\n",
    "daskData = dd.from_pandas(pandasData, npartitions=5)\n",
    "purchaseOfBlackFriday = daskData['Purchase']"
   ]
  },
  {
   "cell_type": "code",
   "execution_count": 43,
   "metadata": {},
   "outputs": [],
   "source": [
    "def calculateMean(data):\n",
    "    sumOfElement = 0\n",
    "    for index, value in data.items():\n",
    "        sumOfElement = sumOfElement + value\n",
    "        \n",
    "    mean = sumOfElement/len(data)\n",
    "    return mean\n",
    "         \n",
    "def calculateMeanParallel(data):\n",
    "    startTime = time.time()\n",
    "    mean = data.mean().compute()\n",
    "    return mean, startTime\n",
    "\n",
    "def calculateStandardDeviation(data):\n",
    "    sumStd = 0\n",
    "    mean = calculateMean(data)\n",
    "    for index, value in data.items():\n",
    "        sumStd += pow((value-mean),2)\n",
    "    \n",
    "    return math.sqrt(sumStd/len(data))\n",
    "\n",
    "def binarySearch (arr, left, right, x): \n",
    "  \n",
    "    if right >= left: \n",
    "  \n",
    "        mid = left + (right - left)/2\n",
    "  \n",
    "        if arr[mid] == x: \n",
    "            return mid \n",
    "          \n",
    "        elif arr[mid] > x: \n",
    "            return binarySearch(arr, left, mid-1, x) \n",
    "  \n",
    "        else: \n",
    "            return binarySearch(arr, mid + 1, right, x) \n",
    "  \n",
    "    else: \n",
    "        return -1\n",
    "\n",
    "def Sequential_Search(dlist, item):\n",
    "\n",
    "    pos = 0\n",
    "    found = False\n",
    "    \n",
    "    while pos < len(dlist) and not found:\n",
    "        if dlist[pos] == item:\n",
    "            found = True\n",
    "        else:\n",
    "            pos = pos + 1\n",
    "    \n",
    "    return found, pos"
   ]
  },
  {
   "cell_type": "code",
   "execution_count": 28,
   "metadata": {},
   "outputs": [
    {
     "name": "stdout",
     "output_type": "stream",
     "text": [
      ".........Serial Calculation...........\n",
      "\n",
      "('Serial Mean is:', 9333)\n",
      "('Time taken to calculate the mean is:', 0.28272699999999773)\n",
      "\n",
      ".........Parallel Calculation.......\n",
      "\n",
      "('Parallel Mean is:', 9333)\n",
      "('Time taken to calculate the mean is:', 0.055842000000001946)\n"
     ]
    }
   ],
   "source": [
    "start = time.clock()\n",
    "serialMean = calculateMean(purchaseData)\n",
    "print(\".........Serial Calculation...........\\n\")\n",
    "print(\"Serial Mean is:\", serialMean)\n",
    "print(\"Time taken to calculate the mean is:\", time.clock()-start)\n",
    "\n",
    "print(\"\\n.........Parallel Calculation.......\\n\")\n",
    "\n",
    "start = time.clock()\n",
    "parallelMean = calculateMeanParallel(purchaseOfBlackFriday)\n",
    "print(\"Parallel Mean is:\", serialMean)\n",
    "print(\"Time taken to calculate the mean is:\", time.clock()-start)"
   ]
  },
  {
   "cell_type": "code",
   "execution_count": 29,
   "metadata": {},
   "outputs": [
    {
     "name": "stdout",
     "output_type": "stream",
     "text": [
      "('Serial sorting time is:', 0.23843899999999962)\n",
      "('Parallel sorting time is:', 0.0034090000000013276)\n"
     ]
    }
   ],
   "source": [
    "#Sorting\n",
    "start = time.clock()\n",
    "sortDataSetPandas = pandasData.sort_values(by='Purchase', ascending = True)\n",
    "print(\"Serial sorting time is:\", time.clock()-start)\n",
    "\n",
    "start = time.clock()\n",
    "sortDataSetParallel = purchaseOfBlackFriday.map_partitions(lambda x: x.sort_index())\n",
    "print(\"Parallel sorting time is:\", time.clock()-start)"
   ]
  },
  {
   "cell_type": "code",
   "execution_count": 91,
   "metadata": {},
   "outputs": [
    {
     "name": "stdout",
     "output_type": "stream",
     "text": [
      "('Serial Standard deviation is:', 4981.017566722688)\n",
      "('Serial sorting time is:', 0.6310730000000149)\n",
      "('Parallel standard deviation is:', 4981.022132656476)\n",
      "('Parallel sorting time is:', 0.05628200000001016)\n"
     ]
    }
   ],
   "source": [
    "#standard deviation\n",
    "start = time.clock()\n",
    "stdDataSetPandas = calculateStandardDeviation(purchaseData)\n",
    "print(\"Serial Standard deviation is:\", stdDataSetPandas)\n",
    "print(\"Serial Standard deviation time is:\", time.clock()-start)\n",
    "\n",
    "start = time.clock()\n",
    "stdDataSetParallel = purchaseOfBlackFriday.std().compute()\n",
    "print(\"Parallel standard deviation is:\", stdDataSetParallel)\n",
    "print(\"Parallel standard is:\", time.clock()-start)"
   ]
  },
  {
   "cell_type": "code",
   "execution_count": 44,
   "metadata": {},
   "outputs": [
    {
     "name": "stdout",
     "output_type": "stream",
     "text": [
      "........Serial Implementation........\n",
      "('Element not present at index', 263800)\n",
      "('Serial Search time using binary search  is:', 0.1317109999999957)\n",
      "('Serial Search time using sequential search is:', 0.30381199999999353)\n"
     ]
    }
   ],
   "source": [
    "#search \n",
    "x = 8027 \n",
    "start = time.clock()\n",
    "print(\"........Serial Implementation........\")\n",
    "result = binarySearch(np.array(purchaseData.sort_values()), 0, len(purchaseData)-1, x)\n",
    "if result == -1:\n",
    "    print(\"Element not present in the series\")\n",
    "else:\n",
    "    print(\"Element not present at index\", result)\n",
    "    \n",
    "print(\"Serial Search time using binary search  is:\", time.clock()-start)\n",
    "\n",
    "start = time.clock()\n",
    "isFound, index = Sequential_Search(np.array(purchaseData.sort_values()), x)\n",
    "print(\"Serial Search time using sequential search is:\", time.clock()-start)"
   ]
  },
  {
   "cell_type": "code",
   "execution_count": 42,
   "metadata": {},
   "outputs": [
    {
     "name": "stdout",
     "output_type": "stream",
     "text": [
      ".......Parallel Implementation.......\n",
      "('parallel Search time is:', 0.1451980000000006)\n"
     ]
    }
   ],
   "source": [
    "startTime = time.clock()\n",
    "x = 8027\n",
    "arrOfData = np.array(purchaseData.sort_values())\n",
    "pool = multiprocessing.Pool(processes=3)\n",
    "isFound, index = pool.apply(sequentialSearch, (arrOfData, x))\n",
    "pool.close()\n",
    "print(\".......Parallel Implementation.......\")\n",
    "print(\"parallel Search time is:\", time.clock()-startTime)\n",
    "\n"
   ]
  },
  {
   "cell_type": "code",
   "execution_count": 54,
   "metadata": {},
   "outputs": [
    {
     "name": "stdout",
     "output_type": "stream",
     "text": [
      "('Serial time', 0.0007970000000057098)\n",
      "('Parallel time', 0.0007450000000090995)\n"
     ]
    }
   ],
   "source": [
    "#Groupby\n",
    "startTime = time.clock()\n",
    "data = pandasData.groupby('City_Category')\n",
    "print(\"Serial time\", time.clock()-startTime)\n",
    "\n",
    "startTime = time.clock()\n",
    "dataDask = daskData.groupby('City_Category')\n",
    "print(\"Parallel time\", time.clock()-startTime)"
   ]
  },
  {
   "cell_type": "code",
   "execution_count": null,
   "metadata": {},
   "outputs": [],
   "source": []
  },
  {
   "cell_type": "code",
   "execution_count": null,
   "metadata": {},
   "outputs": [],
   "source": []
  }
 ],
 "metadata": {
  "kernelspec": {
   "display_name": "Python 3",
   "language": "python",
   "name": "python3"
  },
  "language_info": {
   "codemirror_mode": {
    "name": "ipython",
    "version": 3
   },
   "file_extension": ".py",
   "mimetype": "text/x-python",
   "name": "python",
   "nbconvert_exporter": "python",
   "pygments_lexer": "ipython3",
   "version": "3.7.1"
  }
 },
 "nbformat": 4,
 "nbformat_minor": 2
}
